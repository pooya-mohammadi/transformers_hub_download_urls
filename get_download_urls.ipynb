{
 "cells": [
  {
   "cell_type": "code",
   "execution_count": 1,
   "id": "dc3a0f52",
   "metadata": {
    "scrolled": true
   },
   "outputs": [
    {
     "name": "stdout",
     "output_type": "stream",
     "text": [
      "\n",
      "Usage:   \n",
      "  pip <command> [options]\n",
      "\n",
      "no such option: --upgrade\n"
     ]
    }
   ],
   "source": [
    "import os\n",
    "!pip -q --upgrade install huggingface_hub"
   ]
  },
  {
   "cell_type": "code",
   "execution_count": 2,
   "id": "ff895152",
   "metadata": {},
   "outputs": [],
   "source": [
    "from typing import Optional, Union, List\n",
    "from huggingface_hub import HfApi, hf_hub_url, snapshot_download\n",
    "from huggingface_hub.utils import filter_repo_objects\n",
    "from huggingface_hub.constants import REPO_TYPES\n",
    "from os.path import join, split, exists\n",
    "import os\n",
    "from deep_utils import AsyncDownloadUtils\n",
    "\n",
    "\n",
    "async def get_urls(\n",
    "        repo_id: str,\n",
    "        *,\n",
    "        revision: Optional[str] = None,\n",
    "        repo_type: Optional[str] = None,\n",
    "        token: Optional[Union[bool, str]] = None,\n",
    "        allow_patterns: Optional[Union[List[str], str]] = None,\n",
    "        ignore_patterns: Optional[Union[List[str], str]] = None,\n",
    "        download: bool = False,\n",
    "        download_path: str = \".\",\n",
    ") -> List[str]:\n",
    "    if repo_type is None:\n",
    "        repo_type = \"model\"\n",
    "    if repo_type not in REPO_TYPES:\n",
    "        raise ValueError(f\"Invalid repo type: {repo_type}. Accepted repo types are: {str(REPO_TYPES)}\")\n",
    "\n",
    "    _api = HfApi()\n",
    "    repo_info = _api.repo_info(\n",
    "        repo_id=repo_id,\n",
    "        repo_type=repo_type,\n",
    "        revision=revision,\n",
    "        token=token,\n",
    "    )\n",
    "    assert repo_info.sha is not None, \"Repo info returned from server must have a revision sha.\"\n",
    "    filtered_repo_files = list(\n",
    "        filter_repo_objects(\n",
    "            items=[f.rfilename for f in repo_info.siblings],\n",
    "            allow_patterns=allow_patterns,\n",
    "            ignore_patterns=ignore_patterns,\n",
    "        )\n",
    "    )\n",
    "    dl_urls = [hf_hub_url(repo_id, f) for f in filtered_repo_files]\n",
    "    if repo_type == \"dataset\":\n",
    "        dl_urls = [item.replace(\"https://huggingface.co\", \"https://huggingface.co/datasets\") for item in dl_urls]\n",
    "    if download:\n",
    "        download_path = join(download_path, repo_id.split(\"//\")[1])\n",
    "        os.makedirs(download_path, exist_ok=True)\n",
    "        await AsyncDownloadUtils.download_urls(dl_urls, download_path, remove_to_get_local_file_path=f\"https://huggingface.co/{repo_type}s/{repo_id}/resolve/main/\")\n",
    "    return dl_urls"
   ]
  },
  {
   "cell_type": "code",
   "execution_count": 3,
   "id": "3977a03a",
   "metadata": {},
   "outputs": [
    {
     "name": "stdout",
     "output_type": "stream",
     "text": [
      "<coroutine object get_urls at 0x7ae9a8891900>\n"
     ]
    }
   ],
   "source": [
    "from dotenv import load_dotenv\n",
    "import os\n",
    "\n",
    "\n",
    "load_dotenv()\n",
    "login_token = os.getenv(\"login_token\")\n",
    "urls = get_urls(\"wanglab/CT_DeepLesion-MedSAM2\", token=login_token, repo_type=\"dataset\")\n",
    "print(urls)"
   ]
  },
  {
   "cell_type": "markdown",
   "id": "7d459475",
   "metadata": {},
   "source": [
    "Each of the links can be downloaded individually. "
   ]
  },
  {
   "cell_type": "code",
   "execution_count": null,
   "id": "b168c3a8",
   "metadata": {},
   "outputs": [],
   "source": []
  }
 ],
 "metadata": {
  "kernelspec": {
   "display_name": "Python 3 (ipykernel)",
   "language": "python",
   "name": "python3"
  },
  "language_info": {
   "codemirror_mode": {
    "name": "ipython",
    "version": 3
   },
   "file_extension": ".py",
   "mimetype": "text/x-python",
   "name": "python",
   "nbconvert_exporter": "python",
   "pygments_lexer": "ipython3",
   "version": "3.12.3"
  }
 },
 "nbformat": 4,
 "nbformat_minor": 5
}
