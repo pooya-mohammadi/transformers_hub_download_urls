{
 "cells": [
  {
   "cell_type": "code",
   "execution_count": 1,
   "id": "dc3a0f52",
   "metadata": {
    "scrolled": true
   },
   "outputs": [
    {
     "name": "stderr",
     "output_type": "stream",
     "text": [
      "WARNING: Ignoring invalid distribution -rotobuf (c:\\users\\pooya\\miniconda3\\envs\\torch_gpu\\lib\\site-packages)\n",
      "WARNING: Ignoring invalid distribution -rotobuf (c:\\users\\pooya\\miniconda3\\envs\\torch_gpu\\lib\\site-packages)\n",
      "WARNING: Retrying (Retry(total=4, connect=None, read=None, redirect=None, status=None)) after connection broken by 'ReadTimeoutError(\"HTTPSConnectionPool(host='pypi.org', port=443): Read timed out. (read timeout=15)\")': /simple/huggingface-hu/\n",
      "ERROR: Could not find a version that satisfies the requirement huggingface_hu (from versions: none)\n",
      "ERROR: No matching distribution found for huggingface_hu\n",
      "WARNING: Ignoring invalid distribution -rotobuf (c:\\users\\pooya\\miniconda3\\envs\\torch_gpu\\lib\\site-packages)\n",
      "WARNING: Ignoring invalid distribution -rotobuf (c:\\users\\pooya\\miniconda3\\envs\\torch_gpu\\lib\\site-packages)\n",
      "WARNING: Ignoring invalid distribution -rotobuf (c:\\users\\pooya\\miniconda3\\envs\\torch_gpu\\lib\\site-packages)\n"
     ]
    }
   ],
   "source": [
    "!pip -q --upgrade install huggingface_hu"
   ]
  },
  {
   "cell_type": "code",
   "execution_count": 5,
   "id": "ff895152",
   "metadata": {},
   "outputs": [],
   "source": [
    "from typing import Optional, Union, List\n",
    "from huggingface_hub import HfApi, hf_hub_url, snapshot_download\n",
    "from huggingface_hub.utils import filter_repo_objects\n",
    "from huggingface_hub.constants import REPO_TYPES\n",
    "\n",
    "\n",
    "def get_urls(\n",
    "        repo_id: str,\n",
    "        *,\n",
    "        revision: Optional[str] = None,\n",
    "        repo_type: Optional[str] = None,\n",
    "        token: Optional[Union[bool, str]] = None,\n",
    "        allow_patterns: Optional[Union[List[str], str]] = None,\n",
    "        ignore_patterns: Optional[Union[List[str], str]] = None,\n",
    ") -> List[str]:\n",
    "    if repo_type is None:\n",
    "        repo_type = \"model\"\n",
    "    if repo_type not in REPO_TYPES:\n",
    "        raise ValueError(f\"Invalid repo type: {repo_type}. Accepted repo types are: {str(REPO_TYPES)}\")\n",
    "\n",
    "    _api = HfApi()\n",
    "    repo_info = _api.repo_info(\n",
    "        repo_id=repo_id,\n",
    "        repo_type=repo_type,\n",
    "        revision=revision,\n",
    "        token=token,\n",
    "    )\n",
    "    assert repo_info.sha is not None, \"Repo info returned from server must have a revision sha.\"\n",
    "    filtered_repo_files = list(\n",
    "        filter_repo_objects(\n",
    "            items=[f.rfilename for f in repo_info.siblings],\n",
    "            allow_patterns=allow_patterns,\n",
    "            ignore_patterns=ignore_patterns,\n",
    "        )\n",
    "    )\n",
    "    dl_urls = [hf_hub_url(repo_id, f) for f in filtered_repo_files]\n",
    "    return dl_urls"
   ]
  },
  {
   "cell_type": "code",
   "execution_count": 4,
   "id": "3977a03a",
   "metadata": {},
   "outputs": [
    {
     "name": "stdout",
     "output_type": "stream",
     "text": [
      "['https://huggingface.co/runwayml/stable-diffusion-v1-5/resolve/main/.gitattributes', 'https://huggingface.co/runwayml/stable-diffusion-v1-5/resolve/main/README.md', 'https://huggingface.co/runwayml/stable-diffusion-v1-5/resolve/main/feature_extractor/preprocessor_config.json', 'https://huggingface.co/runwayml/stable-diffusion-v1-5/resolve/main/model_index.json', 'https://huggingface.co/runwayml/stable-diffusion-v1-5/resolve/main/safety_checker/config.json', 'https://huggingface.co/runwayml/stable-diffusion-v1-5/resolve/main/safety_checker/model.safetensors', 'https://huggingface.co/runwayml/stable-diffusion-v1-5/resolve/main/safety_checker/pytorch_model.bin', 'https://huggingface.co/runwayml/stable-diffusion-v1-5/resolve/main/scheduler/scheduler_config.json', 'https://huggingface.co/runwayml/stable-diffusion-v1-5/resolve/main/text_encoder/config.json', 'https://huggingface.co/runwayml/stable-diffusion-v1-5/resolve/main/text_encoder/model.safetensors', 'https://huggingface.co/runwayml/stable-diffusion-v1-5/resolve/main/text_encoder/pytorch_model.bin', 'https://huggingface.co/runwayml/stable-diffusion-v1-5/resolve/main/tokenizer/merges.txt', 'https://huggingface.co/runwayml/stable-diffusion-v1-5/resolve/main/tokenizer/special_tokens_map.json', 'https://huggingface.co/runwayml/stable-diffusion-v1-5/resolve/main/tokenizer/tokenizer_config.json', 'https://huggingface.co/runwayml/stable-diffusion-v1-5/resolve/main/tokenizer/vocab.json', 'https://huggingface.co/runwayml/stable-diffusion-v1-5/resolve/main/unet/config.json', 'https://huggingface.co/runwayml/stable-diffusion-v1-5/resolve/main/unet/diffusion_pytorch_model.bin', 'https://huggingface.co/runwayml/stable-diffusion-v1-5/resolve/main/unet/diffusion_pytorch_model.safetensors', 'https://huggingface.co/runwayml/stable-diffusion-v1-5/resolve/main/v1-5-pruned-emaonly.ckpt', 'https://huggingface.co/runwayml/stable-diffusion-v1-5/resolve/main/v1-5-pruned-emaonly.safetensors', 'https://huggingface.co/runwayml/stable-diffusion-v1-5/resolve/main/v1-5-pruned.ckpt', 'https://huggingface.co/runwayml/stable-diffusion-v1-5/resolve/main/v1-5-pruned.safetensors', 'https://huggingface.co/runwayml/stable-diffusion-v1-5/resolve/main/v1-inference.yaml', 'https://huggingface.co/runwayml/stable-diffusion-v1-5/resolve/main/vae/config.json', 'https://huggingface.co/runwayml/stable-diffusion-v1-5/resolve/main/vae/diffusion_pytorch_model.bin', 'https://huggingface.co/runwayml/stable-diffusion-v1-5/resolve/main/vae/diffusion_pytorch_model.safetensors']\n"
     ]
    }
   ],
   "source": [
    "login_token = \"login-token-get-from-huggingfacepage\"\n",
    "urls = get_urls(\"runwayml/stable-diffusion-v1-5\", token=login_token)\n",
    "print(urls)"
   ]
  },
  {
   "cell_type": "markdown",
   "id": "7d459475",
   "metadata": {},
   "source": [
    "Each of the links can be downloaded individually. "
   ]
  },
  {
   "cell_type": "code",
   "execution_count": null,
   "id": "b168c3a8",
   "metadata": {},
   "outputs": [],
   "source": []
  }
 ],
 "metadata": {
  "kernelspec": {
   "display_name": "Python 3 (ipykernel)",
   "language": "python",
   "name": "python3"
  },
  "language_info": {
   "codemirror_mode": {
    "name": "ipython",
    "version": 3
   },
   "file_extension": ".py",
   "mimetype": "text/x-python",
   "name": "python",
   "nbconvert_exporter": "python",
   "pygments_lexer": "ipython3",
   "version": "3.10.8"
  }
 },
 "nbformat": 4,
 "nbformat_minor": 5
}
